{
 "cells": [
  {
   "cell_type": "code",
   "execution_count": 1,
   "metadata": {
    "collapsed": true
   },
   "outputs": [],
   "source": [
    "import pandas as pd"
   ]
  },
  {
   "cell_type": "code",
   "execution_count": 27,
   "metadata": {
    "collapsed": true
   },
   "outputs": [],
   "source": [
    "df = pd.read_csv(\"singapore_robotics.csv\")"
   ]
  },
  {
   "cell_type": "code",
   "execution_count": 3,
   "metadata": {
    "collapsed": true
   },
   "outputs": [],
   "source": [
    "from nltk.stem import WordNetLemmatizer\n",
    "wordnet_lemmatizer = WordNetLemmatizer()\n",
    "def tokenize_and_lemmatizer(text):\n",
    "    # first tokenize by sentence, then by word to ensure that punctuation is caught as it's own token\n",
    "    tokens = [word for sent in nltk.sent_tokenize(text) for word in nltk.word_tokenize(sent)]\n",
    "    filtered_tokens = []\n",
    "    # filter out any tokens not containing letters (e.g., numeric tokens, raw punctuation)\n",
    "    for token in tokens:\n",
    "        if re.search('[a-zA-Z]', token):\n",
    "            filtered_tokens.append(token)\n",
    "    lemmatize = [wordnet_lemmatizer.lemmatize(t) for t in filtered_tokens]\n",
    "    return lemmatize"
   ]
  },
  {
   "cell_type": "code",
   "execution_count": 28,
   "metadata": {
    "collapsed": true
   },
   "outputs": [],
   "source": [
    "from sklearn.feature_extraction.text import TfidfVectorizer\n",
    "\n",
    "#define vectorizer parameters\n",
    "tfidf_vectorizer = TfidfVectorizer(max_df=0.9, max_features=200000,\n",
    "                                 min_df=3, stop_words='english',\n",
    "                                 use_idf=True, tokenizer=tokenize_and_lemmatizer, ngram_range=(1,3))"
   ]
  },
  {
   "cell_type": "code",
   "execution_count": 29,
   "metadata": {
    "collapsed": true
   },
   "outputs": [],
   "source": [
    "import nltk\n",
    "import re\n",
    "X = tfidf_vectorizer.fit_transform(df['Contents'])"
   ]
  },
  {
   "cell_type": "code",
   "execution_count": 30,
   "metadata": {},
   "outputs": [
    {
     "data": {
      "text/plain": [
       "(85, 2158)"
      ]
     },
     "execution_count": 30,
     "metadata": {},
     "output_type": "execute_result"
    }
   ],
   "source": [
    "X.shape"
   ]
  },
  {
   "cell_type": "code",
   "execution_count": 31,
   "metadata": {
    "collapsed": true
   },
   "outputs": [],
   "source": [
    "X_array = X.toarray()"
   ]
  },
  {
   "cell_type": "code",
   "execution_count": 32,
   "metadata": {
    "collapsed": true
   },
   "outputs": [],
   "source": [
    "import numpy as np\n",
    "from sklearn.neighbors import NearestNeighbors\n",
    "\n",
    "nbrs = NearestNeighbors(n_neighbors=len(X_array)).fit(X_array)\n",
    "distances, indices = nbrs.kneighbors(X_array)"
   ]
  },
  {
   "cell_type": "code",
   "execution_count": 33,
   "metadata": {},
   "outputs": [
    {
     "data": {
      "text/plain": [
       "1.3358042841525775"
      ]
     },
     "execution_count": 33,
     "metadata": {},
     "output_type": "execute_result"
    }
   ],
   "source": [
    "distances.mean()"
   ]
  },
  {
   "cell_type": "code",
   "execution_count": 50,
   "metadata": {},
   "outputs": [
    {
     "data": {
      "text/plain": [
       "array([-1,  0,  2,  0, -1, -1, -1,  1,  2, -1, -1,  2, -1,  3,  2,  2,  2,\n",
       "        2, -1,  3,  2,  0, -1, -1, -1,  2,  1, -1,  2, -1, -1,  2, -1, -1,\n",
       "        0, -1,  2,  2,  2, -1, -1,  2, -1, -1,  2,  2,  3,  1,  2,  2,  2,\n",
       "        2, -1, -1, -1,  2, -1, -1, -1, -1, -1, -1, -1, -1,  2, -1,  2, -1,\n",
       "       -1, -1, -1,  2, -1, -1, -1,  2, -1,  2,  2, -1, -1, -1, -1, -1, -1])"
      ]
     },
     "execution_count": 50,
     "metadata": {},
     "output_type": "execute_result"
    }
   ],
   "source": [
    "from sklearn.cluster import DBSCAN\n",
    "db = DBSCAN(eps=1.2, min_samples=3).fit(X)\n",
    "db.labels_"
   ]
  },
  {
   "cell_type": "code",
   "execution_count": 51,
   "metadata": {
    "collapsed": true
   },
   "outputs": [],
   "source": [
    "df['Labels'] = db.labels_"
   ]
  },
  {
   "cell_type": "code",
   "execution_count": 52,
   "metadata": {},
   "outputs": [
    {
     "data": {
      "text/plain": [
       "1     Room to work on robotics and AI in new DSO Com...\n",
       "3     New complex for DSO - Singapore's largest defe...\n",
       "21    Singapore to invest S$45ma year in new defence...\n",
       "34        Students showcase projects on defence science\n",
       "Name: Title, dtype: object"
      ]
     },
     "execution_count": 52,
     "metadata": {},
     "output_type": "execute_result"
    }
   ],
   "source": [
    "df['Title'][df['Labels']==0]"
   ]
  },
  {
   "cell_type": "code",
   "execution_count": 53,
   "metadata": {},
   "outputs": [
    {
     "data": {
      "text/plain": [
       "7     Start Singapore: Jachin Capital gets licence f...\n",
       "26    Singapore Fund Manager Launches Digital Invest...\n",
       "47    Independent Singapore adviser offers new digit...\n",
       "Name: Title, dtype: object"
      ]
     },
     "execution_count": 53,
     "metadata": {},
     "output_type": "execute_result"
    }
   ],
   "source": [
    "df['Title'][df['Labels']==1]"
   ]
  },
  {
   "cell_type": "code",
   "execution_count": 54,
   "metadata": {},
   "outputs": [
    {
     "data": {
      "text/plain": [
       "2     New hospital in Singapore to use AI, smartband...\n",
       "8     Public-private partnerships to spur local manu...\n",
       "11              Full steam ahead for new Tuas mega port\n",
       "14    Pakistan wins top position in underwater robot...\n",
       "15    Immokalee High team takes on the world in robo...\n",
       "16    Singapore aims to house the most globally comp...\n",
       "17    What's being done to prepare S'poreans for job...\n",
       "20            Rising to tech evolution across the board\n",
       "25         Businesses turn to robots to cut labor costs\n",
       "28                Singapore's 50 largest hotels in 2017\n",
       "31    McKinsey, A*Star's ARTC to train workers on In...\n",
       "36    Universal robots keeps delivering high double-...\n",
       "37    The new era of manufacturing is here at Expo e...\n",
       "38              Laughed at, but they had the last laugh\n",
       "41    Cobotisation – the solution to Industry 4.0 in...\n",
       "44    Robot 'therapist' to improve productivity amon...\n",
       "45                                   Living with robots\n",
       "48    Thinking About The Mind Behind The Robot At SI...\n",
       "49      PBA Group remains as lean and fast as a startup\n",
       "50      How will robots help run Singapore's hospitals?\n",
       "51    Singapore Budget 2016: More than $450 million ...\n",
       "55    NTU researchers use robotics to offer stroke p...\n",
       "64    Singapore: Medical robotics firm Endomaster cl...\n",
       "66          Singapore clinic trials physiotherapy robot\n",
       "71    SME Spotlight: Paving the way for the rise of ...\n",
       "75                                    I Robot, you boss\n",
       "77    Dyson opens S$587m R&D centre at Singapore Sci...\n",
       "78              Meet Techi, the new housekeeping wizard\n",
       "Name: Title, dtype: object"
      ]
     },
     "execution_count": 54,
     "metadata": {},
     "output_type": "execute_result"
    }
   ],
   "source": [
    "df['Title'][df['Labels']==2]"
   ]
  },
  {
   "cell_type": "code",
   "execution_count": null,
   "metadata": {
    "collapsed": true
   },
   "outputs": [],
   "source": []
  }
 ],
 "metadata": {
  "kernelspec": {
   "display_name": "Python 2",
   "language": "python",
   "name": "python2"
  },
  "language_info": {
   "codemirror_mode": {
    "name": "ipython",
    "version": 2
   },
   "file_extension": ".py",
   "mimetype": "text/x-python",
   "name": "python",
   "nbconvert_exporter": "python",
   "pygments_lexer": "ipython2",
   "version": "2.7.13"
  }
 },
 "nbformat": 4,
 "nbformat_minor": 2
}
