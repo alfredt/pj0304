{
 "cells": [
  {
   "cell_type": "code",
   "execution_count": 2,
   "metadata": {
    "collapsed": true
   },
   "outputs": [],
   "source": [
    "text = \"\"\"Singaporean autonomous technology firm SESTO Robotics is stepping up its game as it launches the latest model of its Automated Guide Vehicles (AGVs).  Called the SESTO 300, the AGVs are customized mobile robots created specifically for the manufacturing industry to fulfill logistical roles. The company, which was spun-off earlier this year as a wholly-owned subsidiary of Singaporean engineering firm HOPE Technik, announced the new product Tuesday at the Manufacturing Technology Asia conference.  SESTO Robotics CEO and co-founder of HOPE Technik, Michael Leong, told CNBC's \"Squawk Box\" that automation \"is a direction that [Singapore] is moving along as the population gets more well-educated.\"\n",
    "\"\"\""
   ]
  },
  {
   "cell_type": "code",
   "execution_count": 3,
   "metadata": {},
   "outputs": [
    {
     "data": {
      "text/plain": [
       "'Singaporean autonomous technology firm SESTO Robotics is stepping up its game as it launches the latest model of its Automated Guide Vehicles (AGVs).  Called the SESTO 300, the AGVs are customized mobile robots created specifically for the manufacturing industry to fulfill logistical roles. The company, which was spun-off earlier this year as a wholly-owned subsidiary of Singaporean engineering firm HOPE Technik, announced the new product Tuesday at the Manufacturing Technology Asia conference.  SESTO Robotics CEO and co-founder of HOPE Technik, Michael Leong, told CNBC\\'s \"Squawk Box\" that automation \"is a direction that [Singapore] is moving along as the population gets more well-educated.\"\\n'"
      ]
     },
     "execution_count": 3,
     "metadata": {},
     "output_type": "execute_result"
    }
   ],
   "source": [
    "text"
   ]
  },
  {
   "cell_type": "code",
   "execution_count": 5,
   "metadata": {
    "collapsed": true
   },
   "outputs": [],
   "source": [
    "from nltk.stem import WordNetLemmatizer\n",
    "wordnet_lemmatizer = WordNetLemmatizer()"
   ]
  },
  {
   "cell_type": "code",
   "execution_count": 11,
   "metadata": {
    "collapsed": true
   },
   "outputs": [],
   "source": [
    "from nltk.stem import WordNetLemmatizer\n",
    "wordnet_lemmatizer = WordNetLemmatizer()\n",
    "def tokenize_and_lemmatizer(text):\n",
    "    # first tokenize by sentence, then by word to ensure that punctuation is caught as it's own token\n",
    "    tokens = [word for sent in nltk.sent_tokenize(text) for word in nltk.word_tokenize(sent)]\n",
    "    filtered_tokens = []\n",
    "    # filter out any tokens not containing letters (e.g., numeric tokens, raw punctuation)\n",
    "    for token in tokens:\n",
    "        if re.search('[a-zA-Z]', token):\n",
    "            filtered_tokens.append(token)\n",
    "    lemmatize = [wordnet_lemmatizer.lemmatize(t) for t in filtered_tokens]\n",
    "    return stems"
   ]
  },
  {
   "cell_type": "code",
   "execution_count": 12,
   "metadata": {},
   "outputs": [
    {
     "name": "stdout",
     "output_type": "stream",
     "text": [
      "['Singaporean', 'autonomous', 'technology', 'firm', 'SESTO', 'Robotics', 'is', 'stepping', 'up', u'it', 'game', u'a', 'it', u'launch', 'the', 'latest', 'model', 'of', u'it', 'Automated', 'Guide', 'Vehicles', 'AGVs', 'Called', 'the', 'SESTO', 'the', 'AGVs', 'are', 'customized', 'mobile', u'robot', 'created', 'specifically', 'for', 'the', 'manufacturing', 'industry', 'to', 'fulfill', 'logistical', u'role', 'The', 'company', 'which', u'wa', 'spun-off', 'earlier', 'this', 'year', u'a', 'a', 'wholly-owned', 'subsidiary', 'of', 'Singaporean', 'engineering', 'firm', 'HOPE', 'Technik', 'announced', 'the', 'new', 'product', 'Tuesday', 'at', 'the', 'Manufacturing', 'Technology', 'Asia', 'conference', 'SESTO', 'Robotics', 'CEO', 'and', 'co-founder', 'of', 'HOPE', 'Technik', 'Michael', 'Leong', 'told', 'CNBC', \"'s\", 'Squawk', 'Box', 'that', 'automation', 'is', 'a', 'direction', 'that', 'Singapore', 'is', 'moving', 'along', u'a', 'the', 'population', u'get', 'more', 'well-educated']\n"
     ]
    }
   ],
   "source": [
    "import nltk\n",
    "import re\n",
    "print tokenize_and_lemmatizer(text)"
   ]
  },
  {
   "cell_type": "code",
   "execution_count": 21,
   "metadata": {},
   "outputs": [
    {
     "data": {
      "text/plain": [
       "u'launch'"
      ]
     },
     "execution_count": 21,
     "metadata": {},
     "output_type": "execute_result"
    }
   ],
   "source": [
    "wordnet_lemmatizer.lemmatize(\"launches\")"
   ]
  },
  {
   "cell_type": "code",
   "execution_count": 22,
   "metadata": {
    "collapsed": true
   },
   "outputs": [],
   "source": [
    "from nltk.stem.snowball import SnowballStemmer\n",
    "stemmer = SnowballStemmer(\"english\")\n",
    "def tokenize_and_stem(text):\n",
    "    # first tokenize by sentence, then by word to ensure that punctuation is caught as it's own token\n",
    "    tokens = [word for sent in nltk.sent_tokenize(text) for word in nltk.word_tokenize(sent)]\n",
    "    filtered_tokens = []\n",
    "    # filter out any tokens not containing letters (e.g., numeric tokens, raw punctuation)\n",
    "    for token in tokens:\n",
    "        if re.search('[a-zA-Z]', token):\n",
    "            filtered_tokens.append(token)\n",
    "    stems = [stemmer.stem(t) for t in filtered_tokens]\n",
    "    return stems"
   ]
  },
  {
   "cell_type": "code",
   "execution_count": 23,
   "metadata": {},
   "outputs": [
    {
     "name": "stdout",
     "output_type": "stream",
     "text": [
      "[u'singaporean', u'autonom', u'technolog', u'firm', u'sesto', u'robot', 'is', u'step', 'up', u'it', u'game', 'as', 'it', u'launch', u'the', u'latest', u'model', 'of', u'it', u'autom', u'guid', u'vehicl', u'agv', u'call', u'the', u'sesto', u'the', u'agv', u'are', u'custom', u'mobil', u'robot', u'creat', u'specif', u'for', u'the', u'manufactur', u'industri', 'to', u'fulfil', u'logist', u'role', u'the', u'compani', u'which', u'was', u'spun-off', u'earlier', u'this', u'year', 'as', 'a', u'wholly-own', u'subsidiari', 'of', u'singaporean', u'engin', u'firm', u'hope', u'technik', u'announc', u'the', u'new', u'product', u'tuesday', 'at', u'the', u'manufactur', u'technolog', u'asia', u'confer', u'sesto', u'robot', u'ceo', u'and', u'co-found', 'of', u'hope', u'technik', u'michael', u'leong', u'told', u'cnbc', \"'s\", u'squawk', u'box', u'that', u'autom', 'is', 'a', u'direct', u'that', u'singapor', 'is', u'move', u'along', 'as', u'the', u'popul', u'get', u'more', u'well-educ']\n"
     ]
    }
   ],
   "source": [
    "print tokenize_and_stem(text)"
   ]
  },
  {
   "cell_type": "code",
   "execution_count": 24,
   "metadata": {
    "collapsed": true
   },
   "outputs": [],
   "source": [
    "from sklearn.feature_extraction.text import TfidfVectorizer\n",
    "\n",
    "#define vectorizer parameters\n",
    "tfidf_vectorizer = TfidfVectorizer(max_df=0.8, max_features=200000,\n",
    "                                 min_df=0.2, stop_words='english',\n",
    "                                 use_idf=True, tokenizer=tokenize_and_stem, ngram_range=(1,3))"
   ]
  },
  {
   "cell_type": "code",
   "execution_count": null,
   "metadata": {
    "collapsed": true
   },
   "outputs": [],
   "source": []
  }
 ],
 "metadata": {
  "kernelspec": {
   "display_name": "Python 2",
   "language": "python",
   "name": "python2"
  },
  "language_info": {
   "codemirror_mode": {
    "name": "ipython",
    "version": 2
   },
   "file_extension": ".py",
   "mimetype": "text/x-python",
   "name": "python",
   "nbconvert_exporter": "python",
   "pygments_lexer": "ipython2",
   "version": "2.7.13"
  }
 },
 "nbformat": 4,
 "nbformat_minor": 2
}
